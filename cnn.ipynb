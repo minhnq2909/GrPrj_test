{
 "cells": [
  {
   "cell_type": "code",
   "execution_count": 2,
   "id": "c4f0e8c4",
   "metadata": {},
   "outputs": [],
   "source": [
    "import torch\n",
    "import torch.nn as nn "
   ]
  },
  {
   "cell_type": "code",
   "execution_count": 5,
   "id": "cb479be5",
   "metadata": {},
   "outputs": [],
   "source": [
    "class CnnEncoder(nn.Module):\n",
    "    def __init__(self,input_channel, height, width, embedding_dim):\n",
    "        super().__init__()\n",
    "        self.features = nn.Sequential(\n",
    "            #Block 1 \n",
    "            nn.Conv2d(input_channel,32,kernel_size=3,stride=1,padding=1),\n",
    "            nn.ReLU(inplace=True),\n",
    "            nn.MaxPool2d(2),\n",
    "            #Block 2\n",
    "            nn.Conv2d(32,64,kernel_size=3,stride=1,padding=1),\n",
    "            nn.ReLU(inplace=True),\n",
    "            nn.MaxPool2d(2),\n",
    "            #Block 3 \n",
    "            nn.Conv2d(64,128,kernel_size=3,stride=1,padding=1),\n",
    "            nn.ReLU(inplace=True),\n",
    "            nn.MaxPool2d(2),\n",
    "        )\n",
    "        with torch.no_grad():\n",
    "            test = torch.randn(1,input_channel,height,width)\n",
    "            output = self.features(test)\n",
    "            flaten_size = output.view(1, -1).shape[1]\n",
    "        self.fc = nn.Sequential(\n",
    "            nn.Flatten(),\n",
    "            nn.Linear(flaten_size,embedding_dim),\n",
    "            nn.ReLU()\n",
    "        ) \n",
    "    def forward (self,x):\n",
    "        out = self.features(x)\n",
    "        out = self.fc(out)\n",
    "        return out\n"
   ]
  },
  {
   "cell_type": "code",
   "execution_count": 4,
   "id": "9f57e39e",
   "metadata": {},
   "outputs": [],
   "source": [
    "class cnn(nn.Module):\n",
    "    def __init__(self, input_channel, height, width, embedding_dim):\n",
    "        super().__init__()\n",
    "        self.conv1 = nn.Conv2d(input_channel,32,kernel_size=3, stride=1, padding=1)\n",
    "        self.act1 = nn.ReLU()\n",
    "        self.pool1 = nn.MaxPool2d(2)\n",
    "        self.conv2 = nn.Conv2d(32,64,kernel_size=3,stride=1,padding=1)\n",
    "        self.act2 = nn.ReLU()\n",
    "        self.pool2 = nn.MaxPool2d(2)\n",
    "        self.conv3 = nn.Conv2d(64,128,kernel_size=3,stride=1,padding=1)\n",
    "        self.act3 = nn.ReLU()\n",
    "        self.pool3 = nn.MaxPool2d(2)\n",
    "        with torch.no_grad():\n",
    "            test = torch.randn(1,input_channel,height,width)\n",
    "            out = self.pool1(self.act1(self.conv1(test)))\n",
    "            out = self.pool2(self.act2(self.conv2(out)))\n",
    "            out = self.pool3(self.act3(self.conv3(out)))\n",
    "            flaten_size = out.view(1, -1).shape[1]\n",
    "        self.fl = nn.Flatten()\n",
    "        self.ln = nn.Linear(flaten_size,256)\n",
    "        self.act4 = nn.ReLU()\n",
    "        self.ln2 = nn.Linear(256,embedding_dim)\n",
    "    def forward(self,x):\n",
    "        out = self.pool1(self.act1(self.conv1(x)))\n",
    "        out = self.pool2(self.act2(self.conv2(out)))\n",
    "        out = self.pool3(self.act3(self.conv3(out)))\n",
    "        out = self.fl(out)\n",
    "        out = self.ln(out)\n",
    "        out = self.act4(out)\n",
    "        out = self.ln2(out)\n",
    "        return out"
   ]
  },
  {
   "cell_type": "code",
   "execution_count": 3,
   "id": "2573f99a",
   "metadata": {},
   "outputs": [
    {
     "ename": "NameError",
     "evalue": "name 'CnnEncoder' is not defined",
     "output_type": "error",
     "traceback": [
      "\u001b[31m---------------------------------------------------------------------------\u001b[39m",
      "\u001b[31mNameError\u001b[39m                                 Traceback (most recent call last)",
      "\u001b[36mCell\u001b[39m\u001b[36m \u001b[39m\u001b[32mIn[3]\u001b[39m\u001b[32m, line 4\u001b[39m\n\u001b[32m      2\u001b[39m torch.manual_seed(\u001b[32m42\u001b[39m) \n\u001b[32m      3\u001b[39m img = torch.randn(\u001b[32m3\u001b[39m, \u001b[32m2\u001b[39m, \u001b[32m200\u001b[39m, \u001b[32m50\u001b[39m)  \n\u001b[32m----> \u001b[39m\u001b[32m4\u001b[39m encoder = CnnEncoder(\u001b[32m2\u001b[39m,\u001b[32m200\u001b[39m,\u001b[32m50\u001b[39m,\u001b[32m256\u001b[39m)\n\u001b[32m      5\u001b[39m \u001b[38;5;66;03m# print(img)\u001b[39;00m\n\u001b[32m      6\u001b[39m output = encoder.forward(img)  \n",
      "\u001b[31mNameError\u001b[39m: name 'CnnEncoder' is not defined"
     ]
    }
   ],
   "source": [
    "# Test\n",
    "torch.manual_seed(42) \n",
    "img = torch.randn(3, 2, 200, 50)  \n",
    "encoder = CnnEncoder(2,200,50,256)\n",
    "# print(img)\n",
    "output = encoder.forward(img)  \n",
    "print(\"Output shape:\", output)  \n"
   ]
  }
 ],
 "metadata": {
  "kernelspec": {
   "display_name": "pytorch_env",
   "language": "python",
   "name": "python3"
  },
  "language_info": {
   "codemirror_mode": {
    "name": "ipython",
    "version": 3
   },
   "file_extension": ".py",
   "mimetype": "text/x-python",
   "name": "python",
   "nbconvert_exporter": "python",
   "pygments_lexer": "ipython3",
   "version": "3.11.13"
  }
 },
 "nbformat": 4,
 "nbformat_minor": 5
}
